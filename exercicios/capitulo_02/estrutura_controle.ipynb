{
 "cells": [
  {
   "cell_type": "code",
   "execution_count": 25,
   "id": "e4c2970b",
   "metadata": {},
   "outputs": [],
   "source": [
    "a='xptos'\n",
    "lista =['xpto', 'any', 'very']\n",
    "lista2 = ['xptos', 'anys', 'verys']"
   ]
  },
  {
   "cell_type": "code",
   "execution_count": null,
   "id": "b5a31fa9",
   "metadata": {},
   "outputs": [
    {
     "name": "stdout",
     "output_type": "stream",
     "text": [
      "xpto\n",
      "any\n",
      "very\n"
     ]
    }
   ],
   "source": [
    "if a in lista:\n",
    "    print(lista[0])\n",
    "else:\n",
    "    i=0\n",
    "    while (i!=3):\n",
    "        print(lista[i])\n",
    "        i +=1\n",
    "    "
   ]
  },
  {
   "cell_type": "code",
   "execution_count": 26,
   "id": "e6a51440",
   "metadata": {},
   "outputs": [
    {
     "name": "stdout",
     "output_type": "stream",
     "text": [
      "xptos\n"
     ]
    }
   ],
   "source": [
    "if a in lista2:\n",
    "    print(lista2[0])\n",
    "else:\n",
    "    for palavra in lista2:\n",
    "        print(palavra)"
   ]
  }
 ],
 "metadata": {
  "kernelspec": {
   "display_name": ".venv",
   "language": "python",
   "name": "python3"
  },
  "language_info": {
   "codemirror_mode": {
    "name": "ipython",
    "version": 3
   },
   "file_extension": ".py",
   "mimetype": "text/x-python",
   "name": "python",
   "nbconvert_exporter": "python",
   "pygments_lexer": "ipython3",
   "version": "3.13.5"
  }
 },
 "nbformat": 4,
 "nbformat_minor": 5
}
