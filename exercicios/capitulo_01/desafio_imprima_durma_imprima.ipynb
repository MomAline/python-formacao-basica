{
 "cells": [
  {
   "cell_type": "markdown",
   "metadata": {},
   "source": [
    "1. Importe o módulo \"time\"\n",
    "1. Imprima na tela \"Olá, mundo!\"\n",
    "1. Insira a função \"time.sleep\" e passe como argumento 2\n",
    "1. Imprima na tela \"Agora sou uma pessoa programadora Python.\" e \"Aguarde 4.5 segundos\"\n",
    "1. Insira a função \"time.sleep\" e passe como argumento 4.5\n",
    "1. Imprima na tela \"Última linha do programa.\""
   ]
  },
  {
   "cell_type": "code",
   "execution_count": 1,
   "metadata": {},
   "outputs": [
    {
     "name": "stdout",
     "output_type": "stream",
     "text": [
      "Current Formatted  Time: 2025-07-28 16:54:23\n",
      "Olá, mundo!\n",
      "Agora sou uma pessoa programadora Python.\n",
      "Aguarde 4.5 segundos\n",
      "Última linha do programa.\n",
      "Current Formatted  Time: 2025-07-28 16:54:29\n"
     ]
    }
   ],
   "source": [
    "import time\n",
    "# Get the current time as a time tuple\n",
    "current_time = time.localtime()\n",
    "\n",
    "# Format the time using strftime()\n",
    "formatted_time = time.strftime(\"%Y-%m-%d %H:%M:%S\", current_time)\n",
    "\n",
    "\n",
    "print(\"Current Formatted  Time:\", formatted_time)\n",
    "print(\"Olá, mundo!\") # imprime a frase \"Olá, mundo!\"\n",
    "time.sleep(2)\n",
    "print(\"Agora sou uma pessoa programadora Python.\")\n",
    "print(\"Aguarde 4.5 segundos\")\n",
    "time.sleep(4.5)\n",
    "print(\"Última linha do programa.\")\n",
    "current_time = time.localtime()\n",
    "formatted_time = time.strftime(\"%Y-%m-%d %H:%M:%S\", current_time)\n",
    "print(\"Current Formatted  Time:\", formatted_time)"
   ]
  }
 ],
 "metadata": {
  "kernelspec": {
   "display_name": ".venv",
   "language": "python",
   "name": "python3"
  },
  "language_info": {
   "codemirror_mode": {
    "name": "ipython",
    "version": 3
   },
   "file_extension": ".py",
   "mimetype": "text/x-python",
   "name": "python",
   "nbconvert_exporter": "python",
   "pygments_lexer": "ipython3",
   "version": "3.13.5"
  },
  "orig_nbformat": 4
 },
 "nbformat": 4,
 "nbformat_minor": 2
}
