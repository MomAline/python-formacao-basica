{
 "cells": [
  {
   "attachments": {},
   "cell_type": "markdown",
   "metadata": {},
   "source": [
    "- Crie tratamento para as exceções: ZeroDivisionError e TypeError usando a sintaxe try...except...finally\n"
   ]
  },
  {
   "cell_type": "code",
   "execution_count": null,
   "metadata": {},
   "outputs": [],
   "source": [
    "from random import random, randrange\n",
    "\n",
    "try:    \n",
    "    x = random() / 0\n",
    "    print(x)\n",
    "\n",
    "except ZeroDivisionError:\n",
    "    print('Nenhum número é divisível por zero.') \n",
    "    y =  - randrange(10)    \n",
    "    print(f'Vamos dividir o número desejado por {y}') \n",
    "    x = random() / y    \n",
    "    print(f'Aqui está o resultado: {x}')\n",
    "    \n",
    "except TypeError:\n",
    "   print('Existe um erro de tipo. Talvez você esteja tentando aplicar um método não suportado por tipos dados numéricos.')\n",
    "\n",
    "except Exception:\n",
    "    print('Mensagem genérica de exceção')\n",
    "\n",
    "finally:\n",
    "    print('Fim.')"
   ]
  }
 ],
 "metadata": {
  "kernelspec": {
   "display_name": ".venv",
   "language": "python",
   "name": "python3"
  },
  "language_info": {
   "codemirror_mode": {
    "name": "ipython",
    "version": 3
   },
   "file_extension": ".py",
   "mimetype": "text/x-python",
   "name": "python",
   "nbconvert_exporter": "python",
   "pygments_lexer": "ipython3",
   "version": "3.13.5"
  },
  "orig_nbformat": 4
 },
 "nbformat": 4,
 "nbformat_minor": 2
}
