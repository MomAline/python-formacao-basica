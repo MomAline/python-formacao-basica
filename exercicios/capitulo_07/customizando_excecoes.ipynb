{
 "cells": [
  {
   "attachments": {},
   "cell_type": "markdown",
   "metadata": {},
   "source": [
    "- Imagine que você está criando um servidor web e customize exceções para o código\n"
   ]
  },
  {
   "cell_type": "code",
   "execution_count": 1,
   "metadata": {},
   "outputs": [],
   "source": [
    "class HttpException(Exception):\n",
    "    codigo_status = None\n",
    "    mensagem = None\n",
    "\n",
    "    def __init__(self):\n",
    "        super().__init__(f'Código do status: {self.codigo_status}. Mensagem: {self.mensagem}')\n",
    "\n",
    "class Unauthorized(HttpException):\n",
    "    codigo_status = 401\n",
    "    mensagem = 'Acesso não autorizado'\n",
    "\n",
    "class BadGateway(HttpException):\n",
    "    codigo_status = 502\n",
    "    mensagem = 'Esse servidor é um gateway ou servidor proxy, que não está recebendo resposta válida dos servidores de back-end.'"
   ]
  },
  {
   "attachments": {},
   "cell_type": "markdown",
   "metadata": {},
   "source": [
    "- Simule a aplicação de uma exceção customizada no código"
   ]
  },
  {
   "cell_type": "code",
   "execution_count": 2,
   "metadata": {},
   "outputs": [
    {
     "ename": "Unauthorized",
     "evalue": "Código do status: 401. Mensagem: Acesso não autorizado",
     "output_type": "error",
     "traceback": [
      "\u001b[31m---------------------------------------------------------------------------\u001b[39m",
      "\u001b[31mUnauthorized\u001b[39m                              Traceback (most recent call last)",
      "\u001b[36mCell\u001b[39m\u001b[36m \u001b[39m\u001b[32mIn[2]\u001b[39m\u001b[32m, line 4\u001b[39m\n\u001b[32m      1\u001b[39m \u001b[38;5;28;01mdef\u001b[39;00m\u001b[38;5;250m \u001b[39m\u001b[34mraiseUnauthorizedError\u001b[39m():\n\u001b[32m      2\u001b[39m     \u001b[38;5;28;01mraise\u001b[39;00m Unauthorized()\n\u001b[32m----> \u001b[39m\u001b[32m4\u001b[39m \u001b[43mraiseUnauthorizedError\u001b[49m\u001b[43m(\u001b[49m\u001b[43m)\u001b[49m\n",
      "\u001b[36mCell\u001b[39m\u001b[36m \u001b[39m\u001b[32mIn[2]\u001b[39m\u001b[32m, line 2\u001b[39m, in \u001b[36mraiseUnauthorizedError\u001b[39m\u001b[34m()\u001b[39m\n\u001b[32m      1\u001b[39m \u001b[38;5;28;01mdef\u001b[39;00m\u001b[38;5;250m \u001b[39m\u001b[34mraiseUnauthorizedError\u001b[39m():\n\u001b[32m----> \u001b[39m\u001b[32m2\u001b[39m     \u001b[38;5;28;01mraise\u001b[39;00m Unauthorized()\n",
      "\u001b[31mUnauthorized\u001b[39m: Código do status: 401. Mensagem: Acesso não autorizado"
     ]
    }
   ],
   "source": [
    "def raiseUnauthorizedError():\n",
    "    raise Unauthorized()\n",
    "\n",
    "raiseUnauthorizedError()"
   ]
  }
 ],
 "metadata": {
  "kernelspec": {
   "display_name": ".venv",
   "language": "python",
   "name": "python3"
  },
  "language_info": {
   "codemirror_mode": {
    "name": "ipython",
    "version": 3
   },
   "file_extension": ".py",
   "mimetype": "text/x-python",
   "name": "python",
   "nbconvert_exporter": "python",
   "pygments_lexer": "ipython3",
   "version": "3.13.5"
  },
  "orig_nbformat": 4
 },
 "nbformat": 4,
 "nbformat_minor": 2
}
