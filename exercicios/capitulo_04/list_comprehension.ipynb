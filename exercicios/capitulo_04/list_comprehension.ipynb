{
 "cells": [
  {
   "attachments": {},
   "cell_type": "markdown",
   "metadata": {},
   "source": [
    "- Crie uma lista com tipos de dados numérico\n"
   ]
  },
  {
   "cell_type": "code",
   "execution_count": 2,
   "metadata": {},
   "outputs": [],
   "source": [
    "lista = [4, 5,9,7]"
   ]
  },
  {
   "attachments": {},
   "cell_type": "markdown",
   "metadata": {},
   "source": [
    "- Usando list comprehension, multiplique cada item por 2 e armazene-os em uma nova lista\n"
   ]
  },
  {
   "cell_type": "code",
   "execution_count": 5,
   "metadata": {},
   "outputs": [
    {
     "name": "stdout",
     "output_type": "stream",
     "text": [
      "[8, 10, 18, 14]\n"
     ]
    }
   ],
   "source": [
    "duplicate = [2* item for item in lista]\n",
    "print(duplicate)"
   ]
  },
  {
   "attachments": {},
   "cell_type": "markdown",
   "metadata": {},
   "source": [
    "- Usando list comprehension, crie uma lista apenas com os itens divisíveis por 20\n"
   ]
  },
  {
   "cell_type": "code",
   "execution_count": 6,
   "metadata": {},
   "outputs": [
    {
     "name": "stdout",
     "output_type": "stream",
     "text": [
      "[0, 20, 40, 60, 80]\n"
     ]
    }
   ],
   "source": [
    "lista_100 = list(range(100))\n",
    "divisiveis_por_20 = [item for item in lista_100 if item%20==0]\n",
    "print(divisiveis_por_20)"
   ]
  },
  {
   "attachments": {},
   "cell_type": "markdown",
   "metadata": {},
   "source": [
    "- Crie uma string\n"
   ]
  },
  {
   "cell_type": "code",
   "execution_count": 9,
   "metadata": {},
   "outputs": [],
   "source": [
    "texto = \"Era uma tarde chuvosa quando Clara encontrou a pequena chave dourada, parcialmente enterrada na terra úmida, brilhando como se tivesse um segredo a revelar.\""
   ]
  },
  {
   "cell_type": "code",
   "execution_count": 10,
   "metadata": {},
   "outputs": [
    {
     "data": {
      "text/plain": [
       "['Era',\n",
       " 'uma',\n",
       " 'tarde',\n",
       " 'chuvosa',\n",
       " 'quando',\n",
       " 'Clara',\n",
       " 'encontrou',\n",
       " 'a',\n",
       " 'pequena',\n",
       " 'chave',\n",
       " 'dourada,',\n",
       " 'parcialmente',\n",
       " 'enterrada',\n",
       " 'na',\n",
       " 'terra',\n",
       " 'úmida,',\n",
       " 'brilhando',\n",
       " 'como',\n",
       " 'se',\n",
       " 'tivesse',\n",
       " 'um',\n",
       " 'segredo',\n",
       " 'a',\n",
       " 'revelar.']"
      ]
     },
     "execution_count": 10,
     "metadata": {},
     "output_type": "execute_result"
    }
   ],
   "source": [
    "texto.split()"
   ]
  },
  {
   "cell_type": "code",
   "execution_count": 11,
   "metadata": {},
   "outputs": [
    {
     "data": {
      "text/plain": [
       "['Era uma tarde chuvosa quando Clara encontrou a pequena chave dourada',\n",
       " ' parcialmente enterrada na terra úmida',\n",
       " ' brilhando como se tivesse um segredo a revelar.']"
      ]
     },
     "execution_count": 11,
     "metadata": {},
     "output_type": "execute_result"
    }
   ],
   "source": [
    "texto.split(',')"
   ]
  },
  {
   "attachments": {},
   "cell_type": "markdown",
   "metadata": {},
   "source": [
    "- Crie uma função que substitua as vírgulas da string por uma 'string vazia' e transforme o case das letras para minúscula\n"
   ]
  },
  {
   "cell_type": "code",
   "execution_count": 12,
   "metadata": {},
   "outputs": [],
   "source": [
    "def limpaTexto(palavra):\n",
    "    return palavra.replace(',', '').lower()"
   ]
  },
  {
   "attachments": {},
   "cell_type": "markdown",
   "metadata": {},
   "source": [
    "- Usando list comprehension, crie uma lista com as palavras normalizadas a partir da função do item acima\n"
   ]
  },
  {
   "cell_type": "code",
   "execution_count": 15,
   "metadata": {},
   "outputs": [
    {
     "name": "stdout",
     "output_type": "stream",
     "text": [
      "['era', 'uma', 'tarde', 'chuvosa', 'quando', 'clara', 'encontrou', 'a', 'pequena', 'chave', 'dourada', 'parcialmente', 'enterrada', 'na', 'terra', 'úmida', 'brilhando', 'como', 'se', 'tivesse', 'um', 'segredo', 'a', 'revelar.']\n"
     ]
    }
   ],
   "source": [
    "palavra_texto = [limpaTexto(palavra) for palavra in texto.split()]\n",
    "print(palavra_texto)\n"
   ]
  }
 ],
 "metadata": {
  "kernelspec": {
   "display_name": ".venv",
   "language": "python",
   "name": "python3"
  },
  "language_info": {
   "codemirror_mode": {
    "name": "ipython",
    "version": 3
   },
   "file_extension": ".py",
   "mimetype": "text/x-python",
   "name": "python",
   "nbconvert_exporter": "python",
   "pygments_lexer": "ipython3",
   "version": "3.13.5"
  },
  "orig_nbformat": 4
 },
 "nbformat": 4,
 "nbformat_minor": 2
}
