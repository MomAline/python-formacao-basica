{
 "cells": [
  {
   "attachments": {},
   "cell_type": "markdown",
   "metadata": {},
   "source": [
    "- Crie um while loop que imprima números de 0 a 5\n"
   ]
  },
  {
   "cell_type": "code",
   "execution_count": 1,
   "metadata": {},
   "outputs": [
    {
     "name": "stdout",
     "output_type": "stream",
     "text": [
      "Você passou do estágio 0\n",
      "Você passou do estágio 1\n",
      "Você passou do estágio 2\n",
      "Você passou do estágio 3\n",
      "Você passou do estágio 4\n",
      "Você passou do estágio 5\n"
     ]
    }
   ],
   "source": [
    "estagio_atual = 0\n",
    "estagio_final = 5\n",
    "\n",
    "while estagio_atual <= estagio_final:\n",
    "\tprint('Você passou do estágio', estagio_atual)\n",
    "\testagio_atual += 1"
   ]
  },
  {
   "attachments": {},
   "cell_type": "markdown",
   "metadata": {},
   "source": [
    "- Crie um while loop com else"
   ]
  },
  {
   "cell_type": "code",
   "execution_count": 4,
   "metadata": {},
   "outputs": [
    {
     "name": "stdout",
     "output_type": "stream",
     "text": [
      "Chama continue:  1\n",
      "Você está no estágio mais fácil dentre todos.\n",
      "Você passou do estágio 2\n",
      "Chama pass:  3\n",
      "Você passou do estágio 3\n",
      "Chama break:  4\n"
     ]
    }
   ],
   "source": [
    "estagio_atual = 0\n",
    "estagio_final = 5\n",
    "\n",
    "while estagio_atual <= estagio_final:\n",
    "\testagio_atual += 1\n",
    "\tif estagio_atual == 1:\n",
    "\t\tprint('Chama continue: ', estagio_atual)\n",
    "\t\tcontinue\n",
    "\telif estagio_atual == 2:\n",
    "\t\tprint('Você está no estágio mais fácil dentre todos.')\n",
    "\telif estagio_atual == 3:\n",
    "\t\tprint('Chama pass: ', estagio_atual)\n",
    "\t\tpass\n",
    "\telif estagio_atual == 4:\n",
    "\t\tprint('Chama break: ', estagio_atual)\n",
    "\t\tbreak\n",
    "\tprint('Você passou do estágio', estagio_atual)\n",
    "\n",
    "else:\n",
    "\tprint('Fim do jogo')"
   ]
  }
 ],
 "metadata": {
  "kernelspec": {
   "display_name": ".venv",
   "language": "python",
   "name": "python3"
  },
  "language_info": {
   "codemirror_mode": {
    "name": "ipython",
    "version": 3
   },
   "file_extension": ".py",
   "mimetype": "text/x-python",
   "name": "python",
   "nbconvert_exporter": "python",
   "pygments_lexer": "ipython3",
   "version": "3.13.5"
  },
  "orig_nbformat": 4
 },
 "nbformat": 4,
 "nbformat_minor": 2
}
