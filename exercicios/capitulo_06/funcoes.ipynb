{
 "cells": [
  {
   "attachments": {},
   "cell_type": "markdown",
   "metadata": {},
   "source": [
    "- Crie uma função que receba como argumento 2 números e 1 operação matemática\n"
   ]
  },
  {
   "cell_type": "code",
   "execution_count": 1,
   "metadata": {},
   "outputs": [],
   "source": [
    "def operacaoAritmetica(numero1, numero2, operacao):\n",
    "    pass"
   ]
  },
  {
   "attachments": {},
   "cell_type": "markdown",
   "metadata": {},
   "source": [
    "- Implemente as funções de soma e multiplicação, nessa função\n"
   ]
  },
  {
   "cell_type": "code",
   "execution_count": 4,
   "metadata": {},
   "outputs": [],
   "source": [
    "def operacaoAritmetica(numero1=5, numero2=3, operacao='soma'):\n",
    "\tif operacao == 'soma':\n",
    "\t\treturn numero1 + numero2\n",
    "\telif operacao == 'subtracao':\n",
    "\t\tpass\n",
    "\telif operacao == 'multiplicacao':\n",
    "\t\treturn numero1 * numero2\n",
    "\telif operacao == 'divisao':\n",
    "\t\tpass"
   ]
  },
  {
   "cell_type": "code",
   "execution_count": 12,
   "metadata": {},
   "outputs": [
    {
     "name": "stdout",
     "output_type": "stream",
     "text": [
      "10\n"
     ]
    }
   ],
   "source": [
    "operacao = operacaoAritmetica(5,2,'multiplicacao')\n",
    "print(operacao)"
   ]
  },
  {
   "attachments": {},
   "cell_type": "markdown",
   "metadata": {},
   "source": [
    "- Modifique a função para que receba uma quantidade de argumentos não previsível e os imprima na tela\n"
   ]
  },
  {
   "cell_type": "code",
   "execution_count": 13,
   "metadata": {},
   "outputs": [],
   "source": [
    "def operacaoAritmetica(*numeros, **operacoes):\n",
    "    return numeros, operacoes"
   ]
  },
  {
   "cell_type": "code",
   "execution_count": 14,
   "metadata": {},
   "outputs": [
    {
     "name": "stdout",
     "output_type": "stream",
     "text": [
      "((6, 3, 7, 5, 4), {'operacoes': 'soma'})\n"
     ]
    }
   ],
   "source": [
    "operacao = operacaoAritmetica(6, 3, 7, 5, 4, operacoes='soma')\n",
    "print(operacao)"
   ]
  },
  {
   "attachments": {},
   "cell_type": "markdown",
   "metadata": {},
   "source": [
    "- Use a biblioteca math para otimizar a função\n"
   ]
  },
  {
   "cell_type": "code",
   "execution_count": 15,
   "metadata": {},
   "outputs": [],
   "source": [
    "import math\n",
    "\n",
    "def operacaoAritmetica(*args, **kwargs):\n",
    "    for argumento, valor in kwargs.items():     \n",
    "        if argumento == 'operacao' and valor == 'soma':\n",
    "            return sum(args)\n",
    "        elif argumento == 'operacao' and valor == 'subtracao':\n",
    "            pass\n",
    "        elif argumento == 'operacao' and valor == 'multiplicacao':\n",
    "            return math.prod(args)\n",
    "        elif argumento == 'operacao' and valor == 'divisao':\n",
    "            pass"
   ]
  },
  {
   "cell_type": "code",
   "execution_count": 20,
   "metadata": {},
   "outputs": [
    {
     "name": "stdout",
     "output_type": "stream",
     "text": [
      "1440\n"
     ]
    }
   ],
   "source": [
    "operacao = operacaoAritmetica(2, 1, 8, 9, 10, operacao='multiplicacao')\n",
    "print(operacao)"
   ]
  },
  {
   "attachments": {},
   "cell_type": "markdown",
   "metadata": {},
   "source": [
    "- Escreva uma função do tipo lambda"
   ]
  },
  {
   "cell_type": "code",
   "execution_count": 24,
   "metadata": {},
   "outputs": [
    {
     "name": "stdout",
     "output_type": "stream",
     "text": [
      "18\n"
     ]
    }
   ],
   "source": [
    "multiplica = lambda x, y,z: print((x * y)+z)\n",
    "multiplica(2,9,0)"
   ]
  }
 ],
 "metadata": {
  "kernelspec": {
   "display_name": ".venv",
   "language": "python",
   "name": "python3"
  },
  "language_info": {
   "codemirror_mode": {
    "name": "ipython",
    "version": 3
   },
   "file_extension": ".py",
   "mimetype": "text/x-python",
   "name": "python",
   "nbconvert_exporter": "python",
   "pygments_lexer": "ipython3",
   "version": "3.13.5"
  },
  "orig_nbformat": 4
 },
 "nbformat": 4,
 "nbformat_minor": 2
}
