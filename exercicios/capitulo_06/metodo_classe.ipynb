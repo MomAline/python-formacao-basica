{
 "cells": [
  {
   "attachments": {},
   "cell_type": "markdown",
   "metadata": {},
   "source": [
    "- Crie uma classe\n"
   ]
  },
  {
   "attachments": {},
   "cell_type": "markdown",
   "metadata": {},
   "source": [
    "- Estabeleça variáveis privadas no construtor \n"
   ]
  },
  {
   "cell_type": "code",
   "execution_count": 10,
   "metadata": {},
   "outputs": [],
   "source": [
    "class Gata:\n",
    "    def __init__(self, **kwargs):\n",
    "        self._patas = kwargs['patas']       \n",
    "        self._nome = kwargs['nome'] if 'nome' in kwargs else 'Nísia'\n",
    "        self._cor = kwargs['cor'] \n",
    "        self._comprimento_pelagem = kwargs['comprimento_pelagem']\n",
    "    \n",
    "    def getCor(self):\n",
    "        return self._cor\n",
    "    \n",
    "    def setCor(self, nova_cor='cinza'):\n",
    "        if nova_cor:\n",
    "            self._cor = nova_cor\n",
    "        return self._cor"
   ]
  },
  {
   "attachments": {},
   "cell_type": "markdown",
   "metadata": {},
   "source": [
    "- Crie um método get, que retorne uma das variáveis privadas\n"
   ]
  },
  {
   "attachments": {},
   "cell_type": "markdown",
   "metadata": {},
   "source": [
    "- Crie um método set, que modifique uma das variáveis privadas\n"
   ]
  },
  {
   "attachments": {},
   "cell_type": "markdown",
   "metadata": {},
   "source": [
    "- Instancie a classe e imprima na tela a variável antes e depois da modificação\n"
   ]
  },
  {
   "cell_type": "code",
   "execution_count": 12,
   "metadata": {},
   "outputs": [
    {
     "name": "stdout",
     "output_type": "stream",
     "text": [
      "laranja\n",
      "branca\n"
     ]
    }
   ],
   "source": [
    "teresa = Gata(patas=3, nome='Teresa', cor='laranja', comprimento_pelagem='médio')\n",
    "print(teresa.getCor())\n",
    "teresa.setCor('branca')\n",
    "print(teresa.getCor())"
   ]
  }
 ],
 "metadata": {
  "kernelspec": {
   "display_name": ".venv",
   "language": "python",
   "name": "python3"
  },
  "language_info": {
   "codemirror_mode": {
    "name": "ipython",
    "version": 3
   },
   "file_extension": ".py",
   "mimetype": "text/x-python",
   "name": "python",
   "nbconvert_exporter": "python",
   "pygments_lexer": "ipython3",
   "version": "3.13.5"
  },
  "orig_nbformat": 4
 },
 "nbformat": 4,
 "nbformat_minor": 2
}
