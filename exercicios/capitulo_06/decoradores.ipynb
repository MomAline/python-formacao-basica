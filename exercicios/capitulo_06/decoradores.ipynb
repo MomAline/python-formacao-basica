{
 "cells": [
  {
   "attachments": {},
   "cell_type": "markdown",
   "metadata": {},
   "source": [
    "- Crie um exemplo de função e em seguida crie um decorador para alterar o seu comportamento"
   ]
  },
  {
   "cell_type": "code",
   "execution_count": 3,
   "metadata": {},
   "outputs": [],
   "source": [
    "def operacaoAritmetica(funcao):\n",
    "    def wrapper(*args):\n",
    "        print(f'Antes da operação aritmética')\n",
    "        operacao = funcao(*args)\n",
    "        return operacao\n",
    "    \n",
    "    return wrapper\n",
    "\n",
    "@operacaoAritmetica\n",
    "def soma(*args):\n",
    "    somatorio = sum(args)\n",
    "    return somatorio"
   ]
  },
  {
   "attachments": {},
   "cell_type": "markdown",
   "metadata": {},
   "source": [
    "- Execute a função"
   ]
  },
  {
   "cell_type": "code",
   "execution_count": 4,
   "metadata": {},
   "outputs": [
    {
     "name": "stdout",
     "output_type": "stream",
     "text": [
      "Antes da operação aritmética\n",
      "10\n"
     ]
    }
   ],
   "source": [
    "op = soma(2,3,5)    \n",
    "print(op)"
   ]
  }
 ],
 "metadata": {
  "kernelspec": {
   "display_name": ".venv",
   "language": "python",
   "name": "python3"
  },
  "language_info": {
   "codemirror_mode": {
    "name": "ipython",
    "version": 3
   },
   "file_extension": ".py",
   "mimetype": "text/x-python",
   "name": "python",
   "nbconvert_exporter": "python",
   "pygments_lexer": "ipython3",
   "version": "3.13.5"
  },
  "orig_nbformat": 4
 },
 "nbformat": 4,
 "nbformat_minor": 2
}
